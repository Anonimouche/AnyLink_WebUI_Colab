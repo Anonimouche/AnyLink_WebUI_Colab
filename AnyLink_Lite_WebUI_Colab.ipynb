{
  "cells": [
    {
      "cell_type": "markdown",
      "metadata": {
        "id": "view-in-github",
        "colab_type": "text"
      },
      "source": [
        "<a href=\"https://colab.research.google.com/github/Anonimouche/AnyLink_WebUI_Colab/blob/main/AnyLink_Lite_WebUI_Colab.ipynb\" target=\"_parent\"><img src=\"https://colab.research.google.com/assets/colab-badge.svg\" alt=\"Open In Colab\"/></a>"
      ]
    },
    {
      "cell_type": "markdown",
      "source": [
        "Hi hi hi, All the credit goes to Camenduru for this notebook, you can find more of their awesome work here: https://github.com/camenduru\n",
        "\n",
        "In this colab I added: \n",
        "  - a silent player that you can start before launching the UI (It reduces the odds of getting kicked out by google);\n",
        "  - an easier way to put your custom model in the code\n",
        "  - the possibility of downloading a VAE before lauching the UI\n",
        "\n",
        "For a quick tutorial:\n",
        "  - launch the first cell, a music player will appear, just press play (don't worry it's silent)\n",
        "  - Copy/paste a direct link of the model you want in \"model_link\"\n",
        "  - Copy/paste a direct link of the VAE you want in \"VAE_link\"\n",
        "  - Launch the cell"
      ],
      "metadata": {
        "id": "gnOMQS4gbzaP"
      }
    },
    {
      "cell_type": "code",
      "source": [
        "#@title 1. Keep this tab alive to prevent Colab from disconnecting you { display-mode: \"form\" }\n",
        "\n",
        "#@markdown Press play on the music player that will appear below:\n",
        "%%html\n",
        "<audio src=\"https://oobabooga.github.io/silence.m4a\" controls>"
      ],
      "metadata": {
        "id": "g3b-qtgJOFtj"
      },
      "execution_count": null,
      "outputs": []
    },
    {
      "cell_type": "code",
      "execution_count": null,
      "metadata": {
        "id": "SaAJk33ppFw1",
        "cellView": "form"
      },
      "outputs": [],
      "source": [
        "#@title 2. Launch it\n",
        "#@markdown # Model\n",
        "model_link = \"\" #@param {type:\"string\"}\n",
        "\n",
        "#@markdown # VAE link (optional)\n",
        "VAE_link = \"\" #@param {type:\"string\"}\n",
        "%cd /content\n",
        "\n",
        "%env TF_CPP_MIN_LOG_LEVEL=1\n",
        "\n",
        "!apt -y update -qq\n",
        "!wget http://launchpadlibrarian.net/367274644/libgoogle-perftools-dev_2.5-2.2ubuntu3_amd64.deb\n",
        "!wget https://launchpad.net/ubuntu/+source/google-perftools/2.5-2.2ubuntu3/+build/14795286/+files/google-perftools_2.5-2.2ubuntu3_all.deb\n",
        "!wget https://launchpad.net/ubuntu/+source/google-perftools/2.5-2.2ubuntu3/+build/14795286/+files/libtcmalloc-minimal4_2.5-2.2ubuntu3_amd64.deb\n",
        "!wget https://launchpad.net/ubuntu/+source/google-perftools/2.5-2.2ubuntu3/+build/14795286/+files/libgoogle-perftools4_2.5-2.2ubuntu3_amd64.deb\n",
        "!apt install -qq libunwind8-dev\n",
        "!dpkg -i *.deb\n",
        "%env LD_PRELOAD=libtcmalloc.so\n",
        "!rm *.deb\n",
        "\n",
        "!apt -y install -qq aria2\n",
        "!pip install -q torch==1.13.1+cu116 torchvision==0.14.1+cu116 torchaudio==0.13.1 torchtext==0.14.1 torchdata==0.5.1 --extra-index-url https://download.pytorch.org/whl/cu116 -U\n",
        "!pip install -q xformers==0.0.16 triton==2.0.0 -U\n",
        "\n",
        "!git clone -b v1.9 https://github.com/camenduru/stable-diffusion-webui\n",
        "!git clone https://huggingface.co/embed/negative /content/stable-diffusion-webui/embeddings/negative\n",
        "!git clone https://huggingface.co/embed/lora /content/stable-diffusion-webui/models/Lora/positive\n",
        "!aria2c --console-log-level=error -c -x 16 -s 16 -k 1M https://huggingface.co/embed/upscale/resolve/main/4x-UltraSharp.pth -d /content/stable-diffusion-webui/models/ESRGAN -o 4x-UltraSharp.pth\n",
        "!wget https://raw.githubusercontent.com/camenduru/stable-diffusion-webui-scripts/main/run_n_times.py -O /content/stable-diffusion-webui/scripts/run_n_times.py\n",
        "!git clone -b v1.9 https://github.com/camenduru/deforum-for-automatic1111-webui /content/stable-diffusion-webui/extensions/deforum-for-automatic1111-webui\n",
        "!git clone -b v1.9 https://github.com/camenduru/stable-diffusion-webui-images-browser /content/stable-diffusion-webui/extensions/stable-diffusion-webui-images-browser\n",
        "!git clone -b v1.9 https://github.com/camenduru/stable-diffusion-webui-huggingface /content/stable-diffusion-webui/extensions/stable-diffusion-webui-huggingface\n",
        "!git clone -b v1.9 https://github.com/camenduru/sd-civitai-browser /content/stable-diffusion-webui/extensions/sd-civitai-browser\n",
        "!git clone -b v1.9 https://github.com/camenduru/sd-webui-additional-networks /content/stable-diffusion-webui/extensions/sd-webui-additional-networks\n",
        "!git clone -b v1.9 https://github.com/camenduru/sd-webui-tunnels /content/stable-diffusion-webui/extensions/sd-webui-tunnels\n",
        "!git clone -b v1.9 https://github.com/camenduru/batchlinks-webui /content/stable-diffusion-webui/extensions/batchlinks-webui\n",
        "!git clone -b v1.9 https://github.com/camenduru/stable-diffusion-webui-catppuccin /content/stable-diffusion-webui/extensions/stable-diffusion-webui-catppuccin\n",
        "!git clone -b v1.9 https://github.com/camenduru/a1111-sd-webui-locon /content/stable-diffusion-webui/extensions/a1111-sd-webui-locon\n",
        "!git clone -b v1.9 https://github.com/camenduru/stable-diffusion-webui-rembg /content/stable-diffusion-webui/extensions/stable-diffusion-webui-rembg\n",
        "!git clone -b v1.9 https://github.com/camenduru/stable-diffusion-webui-two-shot /content/stable-diffusion-webui/extensions/stable-diffusion-webui-two-shot\n",
        "!git clone -b v1.9 https://github.com/camenduru/sd_webui_stealth_pnginfo /content/stable-diffusion-webui/extensions/sd_webui_stealth_pnginfo\n",
        "%cd /content/stable-diffusion-webui\n",
        "!git reset --hard\n",
        "\n",
        "import os\n",
        "import requests\n",
        "import re\n",
        "\n",
        "def get_filename_from_cd(cd):\n",
        "    if not cd:\n",
        "        return None\n",
        "    fname = re.findall('filename\\*?=([^;]+)', cd)\n",
        "    if len(fname) == 0:\n",
        "        fname = re.findall('filename=([^;]+)', cd)\n",
        "    if len(fname) == 0:\n",
        "        return None\n",
        "    return fname[0].strip('\\'\"').replace('\\\\', '/')\n",
        "\n",
        "def download_file(link, folder_path):\n",
        "    with requests.get(link, stream=True) as r:\n",
        "        r.raise_for_status()\n",
        "        filename = get_filename_from_cd(r.headers.get('content-disposition'))\n",
        "        filename = filename.strip('\"')\n",
        "        _, ext = os.path.splitext(filename)\n",
        "        if ext == \".pt\":\n",
        "            file_path = os.path.join(model_path, filename)\n",
        "        else:\n",
        "            file_path = os.path.join(folder_path, filename)\n",
        "        with open(file_path, 'wb') as f:\n",
        "            for chunk in r.iter_content(chunk_size=1073741824):\n",
        "                f.write(chunk)\n",
        "    return filename, ext\n",
        "\n",
        "model_path = \"/content/stable-diffusion-webui/models/Stable-diffusion\"\n",
        "vae_path = \"/content/stable-diffusion-webui/models/VAE\"\n",
        "\n",
        "if model_link:\n",
        "    filename = download_file(model_link, model_path)\n",
        "\n",
        "if VAE_link:\n",
        "    filename = download_file(VAE_link, vae_path)\n",
        "\n",
        "!sed -i -e '''/    prepare_environment()/a\\    os.system\\(f\\\"\"\"sed -i -e ''\\\"s/dict()))/dict())).cuda()/g\\\"'' /content/stable-diffusion-webui/repositories/stable-diffusion-stability-ai/ldm/util.py\"\"\")''' /content/stable-diffusion-webui/launch.py\n",
        "!sed -i -e 's/fastapi==0.90.1/fastapi==0.89.1/g' /content/stable-diffusion-webui/requirements_versions.txt\n",
        "\n",
        "!mkdir /content/stable-diffusion-webui/extensions/deforum-for-automatic1111-webui/models\n",
        "\n",
        "!sed -i -e 's/\\\"sd_model_checkpoint\\\"\\,/\\\"sd_model_checkpoint\\,sd_vae\\,CLIP_stop_at_last_layers\\\"\\,/g' /content/stable-diffusion-webui/modules/shared.py\n",
        "\n",
        "!python launch.py --listen --xformers --enable-insecure-extension-access --theme dark --gradio-queue --multiple"
      ]
    }
  ],
  "metadata": {
    "accelerator": "GPU",
    "colab": {
      "private_outputs": true,
      "provenance": [],
      "include_colab_link": true
    },
    "gpuClass": "standard",
    "kernelspec": {
      "display_name": "Python 3",
      "name": "python3"
    },
    "language_info": {
      "name": "python"
    }
  },
  "nbformat": 4,
  "nbformat_minor": 0
}